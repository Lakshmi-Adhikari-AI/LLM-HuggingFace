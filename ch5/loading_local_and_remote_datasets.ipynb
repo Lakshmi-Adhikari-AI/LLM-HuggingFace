{
  "cells": [
    {
      "cell_type": "markdown",
      "metadata": {
        "id": "view-in-github",
        "colab_type": "text"
      },
      "source": [
        "<a href=\"https://colab.research.google.com/github/Lakshmi-Adhikari-AI/LLM-HuggingFace/blob/main/ch5/loading_local_and_remote_datasets.ipynb\" target=\"_parent\"><img src=\"https://colab.research.google.com/assets/colab-badge.svg\" alt=\"Open In Colab\"/></a>"
      ]
    },
    {
      "cell_type": "markdown",
      "metadata": {
        "id": "AdK-yrWy0id9"
      },
      "source": [
        "# 📖 What if my dataset isn't on the Hub?\n",
        "\n",
        "Many datasets live on GitHub or other remote sources instead of the Hub.  \n",
        "Here, we'll see how to load local/remote datasets—including compressed files—and how Hugging Face Datasets handles these efficiently.\n",
        "\n"
      ]
    },
    {
      "cell_type": "markdown",
      "metadata": {
        "id": "G08SgxIP0id_"
      },
      "source": [
        "Install the Transformers, Datasets, and Evaluate libraries to run this notebook."
      ]
    },
    {
      "cell_type": "code",
      "execution_count": null,
      "metadata": {
        "id": "yJQ1WwKN0ieA"
      },
      "outputs": [],
      "source": [
        "!pip install datasets evaluate transformers[sentencepiece]"
      ]
    },
    {
      "cell_type": "markdown",
      "source": [
        "## 1️⃣ Downloading Example Files\n",
        "\n",
        "We'll use the SQuAD-it (Italian QA) dataset from GitHub.\n",
        "These commands download and decompress two .json.gz files locally.\n"
      ],
      "metadata": {
        "id": "7hCSIULk5d5Z"
      }
    },
    {
      "cell_type": "code",
      "source": [
        "# Download SQuAd-it training and test splits from GitHub (compressed)\n",
        "!wget https://github.com/crux82/squad-it/raw/master/SQuAD_it-train.json.gz\n",
        "!wget https://github.com/crux82/squad-it/raw/master/SQuAD_it-test.json.gz\n",
        "\n",
        "# Decompress both files (.json.gz-json)\n",
        "!gzip -dkv SQuAD_it-*.json.gz"
      ],
      "metadata": {
        "id": "DhCT_TZB7bvy"
      },
      "execution_count": null,
      "outputs": []
    },
    {
      "cell_type": "markdown",
      "source": [
        "## 2️⃣ Loading a Local JSON Dataset\n",
        "\n",
        "We can load the training set using the `load_dataset` function; the `field` argument points to the actual data inside the nested JSON structure.\n"
      ],
      "metadata": {
        "id": "TmE9AS4a812R"
      }
    },
    {
      "cell_type": "code",
      "source": [
        "from datasets import load_dataset\n",
        "\n",
        "# Load the local JSON file, specifying the \"data\" filed that contains examples\n",
        "squad_it_dataset=load_dataset(\"json\",data_files=\"SQuAD_it-train.json\",field=\"data\")\n",
        "\n",
        "# Inspect the resulting DatasetDict ()\n",
        "print(squad_it_dataset)"
      ],
      "metadata": {
        "id": "9kRSnoRm9R8n"
      },
      "execution_count": null,
      "outputs": []
    },
    {
      "cell_type": "markdown",
      "source": [
        "## 3️⃣ Inspecting Data Structure\n",
        "\n",
        "View the first example to understand the format and fields.\n"
      ],
      "metadata": {
        "id": "08eDFZMs-Wh-"
      }
    },
    {
      "cell_type": "code",
      "source": [
        "# print the first example in the train split\n",
        "print(squad_it_dataset[\"train\"][0])"
      ],
      "metadata": {
        "id": "OplpGiLv-bJy"
      },
      "execution_count": null,
      "outputs": []
    },
    {
      "cell_type": "markdown",
      "source": [
        "## 4️⃣ Loading Both Train & Test Splits\n",
        "\n",
        "By passing a dictionary to `data_files`, you can load multiple splits at once.\n"
      ],
      "metadata": {
        "id": "JchMQwOB-z23"
      }
    },
    {
      "cell_type": "code",
      "source": [
        "# Load both the train and test splits into a single DatasetDict\n",
        "data_files={\"train\":\"SQuAD_it-train.json\",\"test\":\"SQuAD_it-test.json\"}\n",
        "squad_it_dataset=load_dataset(\"json\",data_files=data_files,field=\"data\")\n",
        "\n",
        "# Inspect the dictionary: both splits are present\n",
        "print(squad_it_dataset)"
      ],
      "metadata": {
        "id": "AFP22eZU-6AO"
      },
      "execution_count": null,
      "outputs": []
    },
    {
      "cell_type": "markdown",
      "source": [
        "## 5️⃣ (Advanced Tip) Loading from Compressed Files Directly\n",
        "\n",
        "Hugging Face Datasets can auto-decompress gzip files—you don’t have to unzip them first!\n"
      ],
      "metadata": {
        "id": "L0dGn9QM_2bZ"
      }
    },
    {
      "cell_type": "code",
      "source": [
        "# Load directly from compressed .json.gz files by passing their paths\n",
        "data_files={\n",
        "    \"train\":\"SQuAD_it-train.json.gz\",\n",
        "    \"test\":\"SQuAD_it-test.json.gz\",\n",
        "}\n",
        "squad_it_dataset=load_dataset(\"json\",data_files=data_files,field=\"data\")\n",
        "# The resulting object is the same\n",
        "print(squad_it_dataset)"
      ],
      "metadata": {
        "id": "jJxxNszZ_31d"
      },
      "execution_count": null,
      "outputs": []
    },
    {
      "cell_type": "markdown",
      "source": [
        "## 6️⃣ Loading Remote Datasets\n",
        "\n",
        "Point `data_files` to the raw URLs—Datasets will download and parse them.\n",
        "\n",
        "This is handy when your data is hosted on GitHub or elsewhere online.\n"
      ],
      "metadata": {
        "id": "tIx_WQgVAjJ4"
      }
    },
    {
      "cell_type": "code",
      "source": [
        "# Example: loading SQuAD-it splits directly from GitHub URLs\n",
        "url=\"https://github.com/crux82/squad-it/raw/master/\"\n",
        "data_files={\n",
        "    \"train\":url+\"SQuAD_it-train.json.gz\",\n",
        "    \"test\":url+\"SQuAD_it-test.json.gz\",\n",
        "}\n",
        "squad_it_dataset=load_dataset(\"json\",data_files=data_files,field=\"data\")\n",
        "print(squad_it_dataset)"
      ],
      "metadata": {
        "id": "96iEdAbhAmaA"
      },
      "execution_count": null,
      "outputs": []
    },
    {
      "cell_type": "markdown",
      "source": [
        "# ✅ Summary\n",
        "\n",
        "- Load local and remote files in many formats (csv, json, text, etc.)\n",
        "- Open compressed files without manual extraction\n",
        "- Organize multiple splits with a dictionary argument\n",
        "- Inspect and manipulate resulting datasets with standard Hugging Face tools\n"
      ],
      "metadata": {
        "id": "zfXXSvLMBlqD"
      }
    }
  ],
  "metadata": {
    "colab": {
      "name": "What if my dataset isn't on the Hub?",
      "provenance": [],
      "include_colab_link": true
    },
    "language_info": {
      "name": "python"
    },
    "kernelspec": {
      "name": "python3",
      "display_name": "Python 3"
    }
  },
  "nbformat": 4,
  "nbformat_minor": 0
}