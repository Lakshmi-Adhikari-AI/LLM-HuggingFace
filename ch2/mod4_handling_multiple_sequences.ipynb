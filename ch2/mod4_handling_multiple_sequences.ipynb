{
  "cells": [
    {
      "cell_type": "markdown",
      "metadata": {
        "id": "view-in-github",
        "colab_type": "text"
      },
      "source": [
        "<a href=\"https://colab.research.google.com/github/Lakshmi-Adhikari-AI/LLM-HuggingFace/blob/main/ch2/mod4_handling_multiple_sequences.ipynb\" target=\"_parent\"><img src=\"https://colab.research.google.com/assets/colab-badge.svg\" alt=\"Open In Colab\"/></a>"
      ]
    },
    {
      "cell_type": "markdown",
      "metadata": {
        "id": "YeZbYWuXHhxr"
      },
      "source": [
        "# Handling multiple sequences (PyTorch)"
      ]
    },
    {
      "cell_type": "markdown",
      "metadata": {
        "id": "NBpQK2K0Hhxx"
      },
      "source": [
        "Install the Transformers, Datasets, and Evaluate libraries to run this notebook."
      ]
    },
    {
      "cell_type": "code",
      "execution_count": 28,
      "metadata": {
        "id": "407jxJ3UHhxz",
        "outputId": "fd6d6249-9ded-4a77-988a-b8ebdac8312b",
        "colab": {
          "base_uri": "https://localhost:8080/"
        }
      },
      "outputs": [
        {
          "output_type": "stream",
          "name": "stdout",
          "text": [
            "Requirement already satisfied: datasets in /usr/local/lib/python3.11/dist-packages (2.14.4)\n",
            "Requirement already satisfied: evaluate in /usr/local/lib/python3.11/dist-packages (0.4.4)\n",
            "Requirement already satisfied: transformers[sentencepiece] in /usr/local/lib/python3.11/dist-packages (4.53.0)\n",
            "Requirement already satisfied: numpy>=1.17 in /usr/local/lib/python3.11/dist-packages (from datasets) (2.0.2)\n",
            "Requirement already satisfied: pyarrow>=8.0.0 in /usr/local/lib/python3.11/dist-packages (from datasets) (18.1.0)\n",
            "Requirement already satisfied: dill<0.3.8,>=0.3.0 in /usr/local/lib/python3.11/dist-packages (from datasets) (0.3.7)\n",
            "Requirement already satisfied: pandas in /usr/local/lib/python3.11/dist-packages (from datasets) (2.2.2)\n",
            "Requirement already satisfied: requests>=2.19.0 in /usr/local/lib/python3.11/dist-packages (from datasets) (2.32.3)\n",
            "Requirement already satisfied: tqdm>=4.62.1 in /usr/local/lib/python3.11/dist-packages (from datasets) (4.67.1)\n",
            "Requirement already satisfied: xxhash in /usr/local/lib/python3.11/dist-packages (from datasets) (3.5.0)\n",
            "Requirement already satisfied: multiprocess in /usr/local/lib/python3.11/dist-packages (from datasets) (0.70.15)\n",
            "Requirement already satisfied: fsspec>=2021.11.1 in /usr/local/lib/python3.11/dist-packages (from fsspec[http]>=2021.11.1->datasets) (2025.3.2)\n",
            "Requirement already satisfied: aiohttp in /usr/local/lib/python3.11/dist-packages (from datasets) (3.11.15)\n",
            "Requirement already satisfied: huggingface-hub<1.0.0,>=0.14.0 in /usr/local/lib/python3.11/dist-packages (from datasets) (0.33.1)\n",
            "Requirement already satisfied: packaging in /usr/local/lib/python3.11/dist-packages (from datasets) (24.2)\n",
            "Requirement already satisfied: pyyaml>=5.1 in /usr/local/lib/python3.11/dist-packages (from datasets) (6.0.2)\n",
            "Requirement already satisfied: filelock in /usr/local/lib/python3.11/dist-packages (from transformers[sentencepiece]) (3.18.0)\n",
            "Requirement already satisfied: regex!=2019.12.17 in /usr/local/lib/python3.11/dist-packages (from transformers[sentencepiece]) (2024.11.6)\n",
            "Requirement already satisfied: tokenizers<0.22,>=0.21 in /usr/local/lib/python3.11/dist-packages (from transformers[sentencepiece]) (0.21.2)\n",
            "Requirement already satisfied: safetensors>=0.4.3 in /usr/local/lib/python3.11/dist-packages (from transformers[sentencepiece]) (0.5.3)\n",
            "Requirement already satisfied: sentencepiece!=0.1.92,>=0.1.91 in /usr/local/lib/python3.11/dist-packages (from transformers[sentencepiece]) (0.2.0)\n",
            "Requirement already satisfied: protobuf in /usr/local/lib/python3.11/dist-packages (from transformers[sentencepiece]) (5.29.5)\n",
            "Requirement already satisfied: aiohappyeyeballs>=2.3.0 in /usr/local/lib/python3.11/dist-packages (from aiohttp->datasets) (2.6.1)\n",
            "Requirement already satisfied: aiosignal>=1.1.2 in /usr/local/lib/python3.11/dist-packages (from aiohttp->datasets) (1.3.2)\n",
            "Requirement already satisfied: attrs>=17.3.0 in /usr/local/lib/python3.11/dist-packages (from aiohttp->datasets) (25.3.0)\n",
            "Requirement already satisfied: frozenlist>=1.1.1 in /usr/local/lib/python3.11/dist-packages (from aiohttp->datasets) (1.7.0)\n",
            "Requirement already satisfied: multidict<7.0,>=4.5 in /usr/local/lib/python3.11/dist-packages (from aiohttp->datasets) (6.6.3)\n",
            "Requirement already satisfied: propcache>=0.2.0 in /usr/local/lib/python3.11/dist-packages (from aiohttp->datasets) (0.3.2)\n",
            "Requirement already satisfied: yarl<2.0,>=1.17.0 in /usr/local/lib/python3.11/dist-packages (from aiohttp->datasets) (1.20.1)\n",
            "Requirement already satisfied: typing-extensions>=3.7.4.3 in /usr/local/lib/python3.11/dist-packages (from huggingface-hub<1.0.0,>=0.14.0->datasets) (4.14.0)\n",
            "Requirement already satisfied: hf-xet<2.0.0,>=1.1.2 in /usr/local/lib/python3.11/dist-packages (from huggingface-hub<1.0.0,>=0.14.0->datasets) (1.1.5)\n",
            "Requirement already satisfied: charset-normalizer<4,>=2 in /usr/local/lib/python3.11/dist-packages (from requests>=2.19.0->datasets) (3.4.2)\n",
            "Requirement already satisfied: idna<4,>=2.5 in /usr/local/lib/python3.11/dist-packages (from requests>=2.19.0->datasets) (3.10)\n",
            "Requirement already satisfied: urllib3<3,>=1.21.1 in /usr/local/lib/python3.11/dist-packages (from requests>=2.19.0->datasets) (2.4.0)\n",
            "Requirement already satisfied: certifi>=2017.4.17 in /usr/local/lib/python3.11/dist-packages (from requests>=2.19.0->datasets) (2025.6.15)\n",
            "Requirement already satisfied: python-dateutil>=2.8.2 in /usr/local/lib/python3.11/dist-packages (from pandas->datasets) (2.9.0.post0)\n",
            "Requirement already satisfied: pytz>=2020.1 in /usr/local/lib/python3.11/dist-packages (from pandas->datasets) (2025.2)\n",
            "Requirement already satisfied: tzdata>=2022.7 in /usr/local/lib/python3.11/dist-packages (from pandas->datasets) (2025.2)\n",
            "Requirement already satisfied: six>=1.5 in /usr/local/lib/python3.11/dist-packages (from python-dateutil>=2.8.2->pandas->datasets) (1.17.0)\n"
          ]
        }
      ],
      "source": [
        "!pip install datasets evaluate transformers[sentencepiece]"
      ]
    },
    {
      "cell_type": "markdown",
      "source": [
        "## 🧠 Chapter 2: Handling Multiple Sequences\n",
        "\n",
        "This notebook explores **batching**, **padding**, and **attention masks** in Hugging Face Transformers.\n",
        "\n",
        "\n"
      ],
      "metadata": {
        "id": "GvVQr1ZnHw6_"
      }
    },
    {
      "cell_type": "markdown",
      "source": [
        "## 🔁 Batching Sequences\n",
        "\n",
        "**Batching** is the act of sending **multiple sentences** through the model at once, instead of one-by-one.\n",
        "\n",
        "- It's **faster** and more efficient (especially on GPUs).\n",
        "- Most models are **trained and optimized** to handle batches.\n",
        "- Even with one sentence, you must wrap it as a batch: a **list of lists (2D tensor)**.\n"
      ],
      "metadata": {
        "id": "7H5LlqSojNes"
      }
    },
    {
      "cell_type": "code",
      "source": [
        "ids = [1045, 2310, 2023]  # Token IDs for: \"I feel this\"\n",
        "\n",
        "# Convert to batch format\n",
        "batched_ids = [ids]  # Batch of 1 sentence\n",
        "print(batched_ids)\n",
        "\n",
        "batched_ids = [ids, ids]  # Batch of 2 identical sentences\n",
        "print(batched_ids)\n"
      ],
      "metadata": {
        "id": "zMZZ0r48H98U",
        "outputId": "423c678d-e281-438d-e32e-f880238de3e2",
        "colab": {
          "base_uri": "https://localhost:8080/"
        }
      },
      "execution_count": 29,
      "outputs": [
        {
          "output_type": "stream",
          "name": "stdout",
          "text": [
            "[[1045, 2310, 2023]]\n",
            "[[1045, 2310, 2023], [1045, 2310, 2023]]\n"
          ]
        }
      ]
    },
    {
      "cell_type": "markdown",
      "source": [
        "## 🧪 Model Expects Batched Input\n",
        "\n",
        "The model expects a **2D tensor** input — even for a single sentence.\n",
        "\n",
        "If you pass a 1D tensor like `[id1, id2, id3]`, it will throw an error.\n",
        "\n",
        "✅ Correct: `torch.tensor([[id1, id2, id3]])`  \n",
        "❌ Wrong: `torch.tensor([id1, id2, id3])`\n"
      ],
      "metadata": {
        "id": "W9TJBsmzjaE-"
      }
    },
    {
      "cell_type": "code",
      "source": [
        "import torch\n",
        "from transformers import AutoTokenizer, AutoModelForSequenceClassification\n",
        "\n",
        "checkpoint = \"distilbert-base-uncased-finetuned-sst-2-english\"\n",
        "tokenizer = AutoTokenizer.from_pretrained(checkpoint)\n",
        "model = AutoModelForSequenceClassification.from_pretrained(checkpoint)\n",
        "\n",
        "sequence = \"I've been waiting for a HuggingFace course my whole life.\"\n",
        "\n",
        "# Tokenization\n",
        "tokens = tokenizer.tokenize(sequence)\n",
        "print(tokens)\n",
        "\n",
        "# Convert to IDs\n",
        "token_ids = tokenizer.convert_tokens_to_ids(tokens)\n",
        "print(token_ids)\n",
        "\n",
        "# Convert to 2D tensor (batch of 1)\n",
        "input_ids = torch.tensor([token_ids])\n",
        "print(\"Input IDs:\", input_ids)\n",
        "print(\"Size:\", input_ids.size())\n",
        "\n",
        "# Model inference\n",
        "output = model(input_ids)\n",
        "print(\"Logits:\", output.logits)\n"
      ],
      "metadata": {
        "id": "kITfdNTXjlUC",
        "outputId": "6a12ea59-bf1b-4473-d96c-79def8bffd53",
        "colab": {
          "base_uri": "https://localhost:8080/"
        }
      },
      "execution_count": 30,
      "outputs": [
        {
          "output_type": "stream",
          "name": "stdout",
          "text": [
            "['i', \"'\", 've', 'been', 'waiting', 'for', 'a', 'hugging', '##face', 'course', 'my', 'whole', 'life', '.']\n",
            "[1045, 1005, 2310, 2042, 3403, 2005, 1037, 17662, 12172, 2607, 2026, 2878, 2166, 1012]\n",
            "Input IDs: tensor([[ 1045,  1005,  2310,  2042,  3403,  2005,  1037, 17662, 12172,  2607,\n",
            "          2026,  2878,  2166,  1012]])\n",
            "Size: torch.Size([1, 14])\n",
            "Logits: tensor([[-2.7276,  2.8789]], grad_fn=<AddmmBackward0>)\n"
          ]
        }
      ]
    },
    {
      "cell_type": "markdown",
      "source": [
        "## 📏 Padding Sequences\n",
        "\n",
        "When batching multiple sequences of **different lengths**, you must make them the **same length** using padding.\n",
        "\n",
        "Why?\n",
        "\n",
        "- Tensors must be **rectangular**\n",
        "- Padding adds a **special token** to the shorter sequences\n",
        "- `tokenizer.pad_token_id` gives the ID of the padding token for your model\n"
      ],
      "metadata": {
        "id": "eY4_LQ1pjuXA"
      }
    },
    {
      "cell_type": "code",
      "source": [
        "# Example: two different length sequences\n",
        "sequence1_input_ids = [[200, 200, 200]]\n",
        "sequence2_input_ids = [[200, 200]]\n",
        "\n",
        "# Use padding for sequence2\n",
        "batched_input_ids = [\n",
        "    [200, 200, 200],\n",
        "    [200, 200, tokenizer.pad_token_id]\n",
        "]\n",
        "\n",
        "print(\"Padding token ID:\", tokenizer.pad_token_id)\n",
        "\n",
        "# Inference\n",
        "print(\"Seq 1 logits:\", model(torch.tensor(sequence1_input_ids)).logits)\n",
        "print(\"Seq 2 logits:\", model(torch.tensor(sequence2_input_ids)).logits)  # Will differ\n",
        "print(\"Batched logits:\", model(torch.tensor(batched_input_ids)).logits)  # Padding affects result\n"
      ],
      "metadata": {
        "id": "vMAsvRSBjwFi",
        "outputId": "f054b6b0-0ce9-49d1-fa01-ee2c2b6ee953",
        "colab": {
          "base_uri": "https://localhost:8080/"
        }
      },
      "execution_count": 31,
      "outputs": [
        {
          "output_type": "stream",
          "name": "stdout",
          "text": [
            "Padding token ID: 0\n",
            "Seq 1 logits: tensor([[ 1.5694, -1.3895]], grad_fn=<AddmmBackward0>)\n",
            "Seq 2 logits: tensor([[ 0.5803, -0.4125]], grad_fn=<AddmmBackward0>)\n",
            "Batched logits: tensor([[ 1.5694, -1.3895],\n",
            "        [ 1.3374, -1.2163]], grad_fn=<AddmmBackward0>)\n"
          ]
        }
      ]
    },
    {
      "cell_type": "markdown",
      "source": [
        "## 🧠 Attention Masks\n",
        "\n",
        "**Attention masks** tell the model which tokens to **attend to** (1) and which to **ignore** (0), especially useful for **ignoring padding**.\n",
        "\n",
        "- Shape of the attention mask = shape of `input_ids`\n",
        "- 1 → real token\n",
        "- 0 → pad token\n"
      ],
      "metadata": {
        "id": "6ZwmLWtMj3-t"
      }
    },
    {
      "cell_type": "code",
      "source": [
        "# Define attention mask\n",
        "attention_mask = [\n",
        "    [1, 1, 1],     # All real tokens\n",
        "    [1, 1, 0]      # Last token is padding\n",
        "]\n",
        "\n",
        "# Now model ignores the padding during inference\n",
        "outputs = model(torch.tensor(batched_input_ids), attention_mask=torch.tensor(attention_mask))\n",
        "print(\"Logits with attention mask:\", outputs.logits)\n"
      ],
      "metadata": {
        "id": "n-9CQX7Ej6Ri",
        "outputId": "7f440df7-06f2-493d-a2fe-e36c18cd53f2",
        "colab": {
          "base_uri": "https://localhost:8080/"
        }
      },
      "execution_count": 32,
      "outputs": [
        {
          "output_type": "stream",
          "name": "stdout",
          "text": [
            "Logits with attention mask: tensor([[ 1.5694, -1.3895],\n",
            "        [ 0.5803, -0.4125]], grad_fn=<AddmmBackward0>)\n"
          ]
        }
      ]
    },
    {
      "cell_type": "markdown",
      "source": [
        "## ✏️ Try It Yourself\n",
        "\n",
        "1. Take these two sentences:\n",
        "   - `\"I've been waiting for a HuggingFace course my whole life.\"`\n",
        "   - `\"I hate this so much!\"`\n",
        "\n",
        "2. Tokenize and encode both\n",
        "3. Run each sentence **individually** through the model and note the logits\n",
        "4. Now:\n",
        "   - Pad the shorter sequence\n",
        "   - Create an attention mask\n",
        "   - Run both as a **batch** with `attention_mask`\n"
      ],
      "metadata": {
        "id": "FS-kGrrgj86m"
      }
    },
    {
      "cell_type": "code",
      "source": [
        "# Input sentences\n",
        "sentence1 = \"I've been waiting for a HuggingFace course my whole life.\"\n",
        "sentence2 = \"I hate this so much!\"\n",
        "\n",
        "# Encode\n",
        "ids1 = tokenizer.encode(sentence1)\n",
        "ids2 = tokenizer.encode(sentence2)\n",
        "\n",
        "print(\"Sentence 1 IDs:\", ids1)\n",
        "print(\"Sentence 2 IDs:\", ids2)\n",
        "\n",
        "# Inference individually\n",
        "print(\"Sentence 1 logits:\", model(torch.tensor([ids1])).logits)\n",
        "print(\"Sentence 2 logits:\", model(torch.tensor([ids2])).logits)\n",
        "\n",
        "# Padding both to same length\n",
        "pad_id = tokenizer.pad_token_id\n",
        "max_len = max(len(ids1), len(ids2))\n",
        "\n",
        "ids1_padded = ids1 + [pad_id] * (max_len - len(ids1))\n",
        "ids2_padded = ids2 + [pad_id] * (max_len - len(ids2))\n",
        "\n",
        "# Attention masks\n",
        "attn_mask1 = [1] * len(ids1) + [0] * (max_len - len(ids1))\n",
        "attn_mask2 = [1] * len(ids2) + [0] * (max_len - len(ids2))\n",
        "\n",
        "# Batched input and mask\n",
        "batch_input = torch.tensor([ids1_padded, ids2_padded])\n",
        "batch_mask = torch.tensor([attn_mask1, attn_mask2])\n",
        "\n",
        "# Inference\n",
        "print(\"Batched logits with attention mask:\", model(batch_input, attention_mask=batch_mask).logits)\n"
      ],
      "metadata": {
        "id": "7--ZWitekBYS",
        "outputId": "a41d72d0-125b-4c13-a4bb-3b9c4339830b",
        "colab": {
          "base_uri": "https://localhost:8080/"
        }
      },
      "execution_count": 33,
      "outputs": [
        {
          "output_type": "stream",
          "name": "stdout",
          "text": [
            "Sentence 1 IDs: [101, 1045, 1005, 2310, 2042, 3403, 2005, 1037, 17662, 12172, 2607, 2026, 2878, 2166, 1012, 102]\n",
            "Sentence 2 IDs: [101, 1045, 5223, 2023, 2061, 2172, 999, 102]\n",
            "Sentence 1 logits: tensor([[-1.5607,  1.6123]], grad_fn=<AddmmBackward0>)\n",
            "Sentence 2 logits: tensor([[ 4.1692, -3.3464]], grad_fn=<AddmmBackward0>)\n",
            "Batched logits with attention mask: tensor([[-1.5607,  1.6123],\n",
            "        [ 4.1692, -3.3464]], grad_fn=<AddmmBackward0>)\n"
          ]
        }
      ]
    },
    {
      "cell_type": "markdown",
      "source": [
        "## ✅ Summary\n",
        "\n",
        "- ✅ Transformers expect **batched inputs** (2D tensors)\n",
        "- ✅ Use **padding** to equalize sequence lengths\n",
        "- ✅ Use **attention masks** to **ignore padding**\n",
        "- ✅ Ensures consistent outputs for individual and batched inference\n",
        "\n",
        "You're now ready to handle **multiple sequences** effectively using Hugging Face Transformers!\n"
      ],
      "metadata": {
        "id": "KhkhQOX2kF_X"
      }
    }
  ],
  "metadata": {
    "colab": {
      "name": "Handling multiple sequences (PyTorch)",
      "provenance": [],
      "include_colab_link": true
    },
    "language_info": {
      "name": "python"
    },
    "kernelspec": {
      "name": "python3",
      "display_name": "Python 3"
    }
  },
  "nbformat": 4,
  "nbformat_minor": 0
}